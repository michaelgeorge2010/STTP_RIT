{
 "cells": [
  {
   "cell_type": "markdown",
   "metadata": {},
   "source": [
    "<head>\n",
    "<meta content=\"text/html; charset=ISO-8859-1\"\n",
    "http-equiv=\"content-type\">\n",
    "<title></title>\n",
    "</head>\n",
    "<body>\n",
    "<p style=\"text-align: center;\" class=\"MsoNormal\"><span\n",
    "style=\"font-weight: bold; text-decoration: underline;\">STTP on Scientific Computing with Python: Image and Video Processing</span></p>\n",
    "<p style=\"text-align: center;\" class=\"MsoNormal\">Video Processing using OpenCV<o:p></o:p></p>\n",
    "<p style=\"text-align: center;\" class=\"MsoNormal\"><img alt=\"OpenCV\"\n",
    "src=\"https://a.fsdn.com/allura/p/opencvlibrary/icon\" /><br>\n",
    "<span style=\"font-weight: bold; text-decoration: underline;\"></span><o:p></o:p></p>\n",
    "<p class=\"MsoNormal\"><br>\n",
    "<o:p></o:p></p>\n",
    "    <p style=\"text-align: center;\" class=\"MsoNormal\">STTP on Scientific Computing with Python<o:p></o:p></p>\n",
    "<p class=\"MsoNormal\"><o:p>&nbsp;</o:p></p>\n",
    "<p style=\"text-align: center;\" class=\"MsoNormal\"><span\n",
    "style=\"font-style: italic;\">Michael George, RIT Kottayam</span><o:p></o:p></p>\n",
    "<br>\n",
    "<p class=\"MsoNormal\"><o:p></o:p></p>\n",
    "</body>\n"
   ]
  },
  {
   "cell_type": "markdown",
   "metadata": {},
   "source": [
    "<br><br><br><br><br><br><br><br><br><br>\n",
    "<b>Working with Video</b>"
   ]
  },
  {
   "cell_type": "markdown",
   "metadata": {},
   "source": [
    "<br>\n",
    "Playing local videos within the notebook<br>"
   ]
  },
  {
   "cell_type": "code",
   "execution_count": 1,
   "metadata": {},
   "outputs": [
    {
     "name": "stdout",
     "output_type": "stream",
     "text": [
      "/media/michael/71C5B30E7B8EFF8E/STTP/Upload/data\n"
     ]
    }
   ],
   "source": [
    "import cv2\n",
    "from matplotlib.pyplot import *\n",
    "%matplotlib inline\n",
    "from IPython.display import clear_output\n",
    "\n",
    "%cd ./data    "
   ]
  },
  {
   "cell_type": "code",
   "execution_count": 7,
   "metadata": {},
   "outputs": [
    {
     "name": "stdout",
     "output_type": "stream",
     "text": [
      "4.4.0\n"
     ]
    }
   ],
   "source": [
    "print(cv2.__version__)"
   ]
  },
  {
   "cell_type": "code",
   "execution_count": 8,
   "metadata": {},
   "outputs": [
    {
     "name": "stdout",
     "output_type": "stream",
     "text": [
      "Megamind.avi: RIFF (little-endian) data, AVI, 720 x 528, 23.98 fps, video: XviD, audio: Dolby AC3 (stereo, 48000 Hz)\r\n"
     ]
    }
   ],
   "source": [
    "!file Megamind.avi"
   ]
  },
  {
   "cell_type": "code",
   "execution_count": 9,
   "metadata": {},
   "outputs": [],
   "source": [
    "def playvideo(vidname):\n",
    "    vid = cv2.VideoCapture(vidname)\n",
    "\n",
    "    try:\n",
    "        while(True):\n",
    "            ret, frame = vid.read()\n",
    "            if not ret:\n",
    "                vid.release()\n",
    "                print(\"Released Video Resource1\")\n",
    "                break\n",
    "            frame = cv2.cvtColor(frame, cv2.COLOR_BGR2RGB)\n",
    "            frame = ourprocessing(frame)\n",
    "            axis('off')\n",
    "            title(\"Input Stream\")\n",
    "            imshow(frame)\n",
    "            show()\n",
    "            clear_output(wait=True)\n",
    "    except KeyboardInterrupt:\n",
    "        vid.release()\n",
    "        print(\"Released Video Resource2\")\n",
    "\n",
    "#we'll override this to do some interesting stuff in a bit        \n",
    "def ourprocessing(frame):\n",
    "    return frame\n"
   ]
  },
  {
   "cell_type": "code",
   "execution_count": 10,
   "metadata": {},
   "outputs": [
    {
     "name": "stdout",
     "output_type": "stream",
     "text": [
      "Released Video Resource1\n"
     ]
    }
   ],
   "source": [
    "playvideo('Megamind.avi')"
   ]
  },
  {
   "cell_type": "markdown",
   "metadata": {},
   "source": [
    "<b>Playing a video in an external window</b>\n",
    "<br><small>(Notice it tends to play back much faster)</small>"
   ]
  },
  {
   "cell_type": "code",
   "execution_count": 11,
   "metadata": {},
   "outputs": [],
   "source": [
    "def playvideowin(vidname,winname='video'):\n",
    "    vid = cv2.VideoCapture(vidname)\n",
    "\n",
    "\n",
    "    while(True):\n",
    "        ret, frame = vid.read()\n",
    "        if not ret:\n",
    "            vid.release()\n",
    "            print(\"Released Video Resource\")\n",
    "            break\n",
    "        frame = ourprocessing(frame)\n",
    "        \n",
    "        cv2.namedWindow(winname)\n",
    "        #cv2.startWindowThread() #this normally isn't required\n",
    "        cv2.imshow(winname,frame)\n",
    "        k=cv2.waitKey(1)\n",
    "        \n",
    "        if k==27: #exit is Esc is pressed\n",
    "            break\n",
    "\n",
    "    cv2.destroyAllWindows()\n",
    "\n",
    "        \n",
    "\n",
    "def ourprocessing(frame):\n",
    "    return frame\n",
    "        \n"
   ]
  },
  {
   "cell_type": "code",
   "execution_count": 12,
   "metadata": {},
   "outputs": [
    {
     "name": "stdout",
     "output_type": "stream",
     "text": [
      "Released Video Resource\n"
     ]
    }
   ],
   "source": [
    "playvideowin('Megamind.avi')"
   ]
  },
  {
   "cell_type": "markdown",
   "metadata": {},
   "source": [
    "Now let's do some frame-by frame processing"
   ]
  },
  {
   "cell_type": "code",
   "execution_count": 13,
   "metadata": {},
   "outputs": [
    {
     "name": "stdout",
     "output_type": "stream",
     "text": [
      "Released Video Resource\n"
     ]
    }
   ],
   "source": [
    "def ourprocessing(frame):\n",
    "    frame = cv2.GaussianBlur(frame,(29,29),0)\n",
    "    return frame\n",
    "\n",
    "playvideowin('Megamind.avi')\n"
   ]
  },
  {
   "cell_type": "markdown",
   "metadata": {},
   "source": [
    "Exercise:  define your own \"ourprocessing\" function and use some of the techniques we learned in previous session"
   ]
  },
  {
   "cell_type": "markdown",
   "metadata": {},
   "source": [
    "<b>Saving videos</b>"
   ]
  },
  {
   "cell_type": "code",
   "execution_count": 14,
   "metadata": {},
   "outputs": [],
   "source": [
    "#let's open a video, process the frames, and save the output\n",
    "\n",
    "cap = cv2.VideoCapture('Megamind.avi')\n",
    "\n",
    "fourcc = cv2.VideoWriter_fourcc(*'XVID')\n",
    "out = cv2.VideoWriter('output.avi',fourcc, 30.0, (720,528)) \n",
    "\n",
    "while True:\n",
    "    ret, frame = cap.read()\n",
    "    \n",
    "    if not ret:\n",
    "        break\n",
    "        \n",
    "    frame = ourprocessing(frame)\n",
    "    \n",
    "    out.write(frame)\n",
    "    \n",
    "cap.release()\n",
    "out.release()\n"
   ]
  },
  {
   "cell_type": "code",
   "execution_count": 15,
   "metadata": {},
   "outputs": [
    {
     "name": "stdout",
     "output_type": "stream",
     "text": [
      "Released Video Resource\n"
     ]
    }
   ],
   "source": [
    "playvideowin('output.avi')\n"
   ]
  },
  {
   "cell_type": "code",
   "execution_count": null,
   "metadata": {},
   "outputs": [],
   "source": []
  }
 ],
 "metadata": {
  "anaconda-cloud": {},
  "kernelspec": {
   "display_name": "Python 3",
   "language": "python",
   "name": "python3"
  },
  "language_info": {
   "codemirror_mode": {
    "name": "ipython",
    "version": 3
   },
   "file_extension": ".py",
   "mimetype": "text/x-python",
   "name": "python",
   "nbconvert_exporter": "python",
   "pygments_lexer": "ipython3",
   "version": "3.7.9"
  }
 },
 "nbformat": 4,
 "nbformat_minor": 1
}
